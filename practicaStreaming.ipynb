{
 "cells": [
  {
   "cell_type": "markdown",
   "metadata": {},
   "source": [
    "# Sistemas Distribuidos de Procesamiento de Datos III\n",
    "\n",
    "## Spark Streaming con Kafka\n",
    "\n",
    "## Javier Pérez Clemente\n",
    "\n",
    "### Introducción\n",
    "\n",
    "Comenzamos importando las librerías de pyspark y kafka necesarias para el desarrollo de la práctica."
   ]
  },
  {
   "cell_type": "code",
   "execution_count": 1,
   "metadata": {},
   "outputs": [],
   "source": [
    "from datetime import datetime, timedelta\n",
    "from pyspark import SparkContext\n",
    "from pyspark.streaming import StreamingContext\n",
    "from pyspark.streaming.kafka import KafkaUtils\n",
    "import kafka"
   ]
  },
  {
   "cell_type": "code",
   "execution_count": 2,
   "metadata": {},
   "outputs": [],
   "source": [
    "# Load external packages programatically\n",
    "import os\n",
    "packages = \"org.apache.spark:spark-streaming-kafka-0-8_2.11:2.4.0\"\n",
    "\n",
    "os.environ[\"PYSPARK_SUBMIT_ARGS\"] = (\n",
    "    \"--packages {0} pyspark-shell\".format(packages)\n",
    ")"
   ]
  },
  {
   "cell_type": "markdown",
   "metadata": {},
   "source": [
    "Levantanmos el contexto de Spark y el contexto de Streaming con una longitud de micro batches de 5 segundos."
   ]
  },
  {
   "cell_type": "code",
   "execution_count": 3,
   "metadata": {},
   "outputs": [],
   "source": [
    "sc = SparkContext(appName=\"PracticaPythonStreamingKafka\")"
   ]
  },
  {
   "cell_type": "code",
   "execution_count": 4,
   "metadata": {},
   "outputs": [],
   "source": [
    "ssc = StreamingContext(sc, 5)"
   ]
  },
  {
   "cell_type": "markdown",
   "metadata": {},
   "source": [
    "Escritura de datos en una cola kafka de topic \"results\"."
   ]
  },
  {
   "cell_type": "code",
   "execution_count": 5,
   "metadata": {},
   "outputs": [],
   "source": [
    "kafkaBrokerIPPort = \"127.0.0.1:9092\"\n",
    "kafkaProducerTopic = \"test\"\n",
    "kafkaConsumerTopic = \"results\"\n",
    "\n",
    "class KafkaProducerWrapper(object):\n",
    "    producer = None\n",
    "    @staticmethod\n",
    "    def getProducer(brokerList):\n",
    "        if KafkaProducerWrapper.producer != None:\n",
    "            return KafkaProducerWrapper.producer\n",
    "        else: \n",
    "            KafkaProducerWrapper.producer = kafka.KafkaProducer(bootstrap_servers=brokerList,\n",
    "                                                              key_serializer=str.encode,\n",
    "                                                              value_serializer=str.encode)\n",
    "        return KafkaProducerWrapper.producer\n",
    "\n",
    "# Envía métricas a Kafka (salida)\n",
    "def sendResults(itr):\n",
    "    prod = KafkaProducerWrapper.getProducer([kafkaBrokerIPPort])\n",
    "    for m in itr:\n",
    "        prod.send(kafkaConsumerTopic, key=m[0], value=m[0]+\": \"+str(m[1]))\n",
    "    prod.flush()"
   ]
  },
  {
   "cell_type": "markdown",
   "metadata": {},
   "source": [
    "Lectura de datos de una cola kafka de topic \"test\""
   ]
  },
  {
   "cell_type": "code",
   "execution_count": 6,
   "metadata": {},
   "outputs": [],
   "source": [
    "kafkaParams = {\"metadata.broker.list\": kafkaBrokerIPPort}\n",
    "directKafkaStream = KafkaUtils.createDirectStream(ssc, [kafkaProducerTopic], kafkaParams) #Conexion de kafka con spark\n",
    "ssc.checkpoint(\"checkpoint\")  # create dir for checkpoint archives"
   ]
  },
  {
   "cell_type": "markdown",
   "metadata": {},
   "source": [
    "Preparación del DStream de entrada para cada uno de los ejercicios."
   ]
  },
  {
   "cell_type": "code",
   "execution_count": 7,
   "metadata": {},
   "outputs": [],
   "source": [
    "lines = directKafkaStream.map(lambda x: x[1])\\\n",
    "                         .map(lambda x: str.replace(x, '\"', ''))\\\n",
    "                         .map(lambda x: x.split(\",\"))"
   ]
  },
  {
   "cell_type": "markdown",
   "metadata": {},
   "source": [
    "## Ejercicio 1\n",
    "\n",
    "Calcular el promedio de valores de temperatura, humedad relativa y concentración de CO2 para cada micro-batch, y el promedio de dichos valores desde el arranque de la aplicación."
   ]
  },
  {
   "cell_type": "markdown",
   "metadata": {},
   "source": [
    "Definimos las funciones que evamos a necesitar para transformar los datos"
   ]
  },
  {
   "cell_type": "code",
   "execution_count": 8,
   "metadata": {},
   "outputs": [],
   "source": [
    "# Calcula la suma y el número de muestras para actualización de estado\n",
    "def sum_since_start(new, current):\n",
    "    new = new[0]\n",
    "    current = current or (0, 0)\n",
    "    new_count = new[1] + current[1]\n",
    "    new_sum = new[0] + current[0]\n",
    "    return new_sum, new_count\n",
    "\n",
    "# Calcula la suma y el número de muestras para micro batch\n",
    "def sum_by_batch(current, new):\n",
    "    new_count = new[1] + current[1]\n",
    "    new_avg = new[0] + current[0]\n",
    "    return (new_avg, new_count)\n",
    "\n",
    "# Obtiene el promedio a partir de la suma y el número de muestras.\n",
    "def get_average(tuple):\n",
    "    key = tuple[0]\n",
    "    sum = tuple[1][0]\n",
    "    count = tuple[1][1]\n",
    "    return key, sum/count"
   ]
  },
  {
   "cell_type": "code",
   "execution_count": 9,
   "metadata": {},
   "outputs": [],
   "source": [
    "variables = lines.map(lambda x: [('Average temperature', (float(x[2]), 1)), ('Average humidity ratio', (float(x[3]), 1)), ('Average CO2 concentration', (float(x[5]), 1))])\\\n",
    "                 .flatMap(lambda v: (v[0], v[1], v[2]))\n",
    "\n",
    "values_since_start = variables.reduceByKey(lambda x, y: tuple(map(lambda l, m: l + m, x, y)))\\\n",
    "                              .updateStateByKey(sum_since_start)\\\n",
    "                              .map(lambda x: (x[0]+' since start', x[1]))\\\n",
    "                              .map(get_average)\n",
    "\n",
    "values_by_batch = variables.reduceByKey(sum_by_batch)\\\n",
    "                           .map(lambda x: (x[0]+' by batch', x[1]))\\\n",
    "                           .map(get_average)"
   ]
  },
  {
   "cell_type": "markdown",
   "metadata": {},
   "source": [
    "## Ejercicio 2 \n",
    "\n",
    "Calcular el promedio de luminosidad en la estancia en ventanas deslizantes de tamaño 45 segundos, con un valor de deslizamiento de 15 segundos entre ventanas consecutivas"
   ]
  },
  {
   "cell_type": "code",
   "execution_count": 10,
   "metadata": {},
   "outputs": [],
   "source": [
    "# Calcula la resta y el número de muestras para micro batch (función inversa de sum_by_batch())\n",
    "def substr_by_batch(current, old):\n",
    "    new_count = current[1] - old[1]\n",
    "    new_avg = current[0] - old[0]\n",
    "    return new_avg, new_count"
   ]
  },
  {
   "cell_type": "code",
   "execution_count": 11,
   "metadata": {},
   "outputs": [],
   "source": [
    "light_over_window = lines.map(lambda x: ('Average luminosity by batch', (float(x[4]), 1)))\\\n",
    "                       .reduceByKeyAndWindow(sum_by_batch, substr_by_batch, 45, 15).map(get_average)"
   ]
  },
  {
   "cell_type": "markdown",
   "metadata": {},
   "source": [
    "## Ejercicio 3\n",
    "\n",
    "Examinando los datos, podemos apreciar que el intervalo entre muestras originales no es exactamente de 1 minuto en muchos casos. Calcular el número de parejas de muestras consecutivas en cada micro-batch entre las cuales el intervalo de separación no es exactamente de 1 minuto."
   ]
  },
  {
   "cell_type": "code",
   "execution_count": 12,
   "metadata": {},
   "outputs": [],
   "source": [
    "# Obtiene el número de parejas de muestras cuya separación temporal es distinta de 60 segundos.\n",
    "def count_couples(current, new):\n",
    "    FMT = '%Y-%m-%d %H:%M:%S'\n",
    "    tdelta = datetime.strptime(new[0], FMT) - datetime.strptime(current[0], FMT)\n",
    "    new_count = current[1] + (1 if tdelta != timedelta(minutes=1) else 0)\n",
    "    new_date = new[0]\n",
    "    return (new_date, new_count)"
   ]
  },
  {
   "cell_type": "code",
   "execution_count": 13,
   "metadata": {},
   "outputs": [],
   "source": [
    "tim_sep = lines.map(lambda x: ('number of sample couples difference != 1 min', (x[1], 0)))\\\n",
    "               .reduceByKey(count_couples)\\\n",
    "               .map(lambda x: (x[0], x[1][1]))"
   ]
  },
  {
   "cell_type": "markdown",
   "metadata": {},
   "source": [
    "## Resultados\n",
    "\n",
    "Se combinan los resultamos de cada ejercicio y se envian a la cola kafka de resultados."
   ]
  },
  {
   "cell_type": "code",
   "execution_count": 14,
   "metadata": {},
   "outputs": [],
   "source": [
    "finalStream = values_by_batch.union(values_since_start).union(tim_sep)\n",
    "\n",
    "light_over_window.foreachRDD(lambda rdd: rdd.foreachPartition(sendResults))\n",
    "finalStream.foreachRDD(lambda rdd: rdd.foreachPartition(sendResults))\n",
    "\n",
    "ssc.start()"
   ]
  },
  {
   "cell_type": "markdown",
   "metadata": {},
   "source": [
    "Conectamos un consuidor de kafka para imprimir por consola los mensajes que van llegando a la kola de resultados."
   ]
  },
  {
   "cell_type": "code",
   "execution_count": 15,
   "metadata": {},
   "outputs": [
    {
     "name": "stdout",
     "output_type": "stream",
     "text": [
      "Initialization...\n",
      "b'Average humidity ratio by batch: 27.37823529411764'\n",
      "b'Average temperature by batch: 22.319411764705887'\n",
      "b'Average CO2 concentration since start: 617.4117647058823'\n",
      "b'Average CO2 concentration by batch: 617.4117647058823'\n",
      "b'number of sample couples difference != 1 min: 7'\n",
      "b'Average humidity ratio since start: 27.37823529411764'\n",
      "b'Average temperature since start: 22.319411764705887'\n",
      "b'Average temperature by batch: 22.228125000000002'\n",
      "b'Average humidity ratio by batch: 27.29625'\n",
      "b'Average CO2 concentration by batch: 604.375'\n",
      "b'Average CO2 concentration since start: 614.9285714285714'\n",
      "b'number of sample couples difference != 1 min: 1'\n",
      "b'Average humidity ratio since start: 27.36261904761904'\n",
      "b'Average temperature since start: 22.302023809523813'\n",
      "b'Average luminosity by batch: 0.0'\n",
      "b'Average CO2 concentration by batch: 593.3055555555555'\n",
      "b'Average humidity ratio by batch: 27.2675'\n",
      "b'Average temperature by batch: 22.2075'\n",
      "b'Average CO2 concentration since start: 610.1234567901234'\n",
      "b'Average humidity ratio since start: 27.341481481481477'\n",
      "b'number of sample couples difference != 1 min: 2'\n",
      "b'Average temperature since start: 22.281018518518522'\n",
      "b'Average temperature by batch: 22.18'\n",
      "b'Average humidity ratio by batch: 27.244999999999997'\n",
      "b'Average CO2 concentration by batch: 587.0'\n",
      "b'Average CO2 concentration since start: 606.5104166666666'\n",
      "b'Average humidity ratio since start: 27.326406249999998'\n",
      "b'number of sample couples difference != 1 min: 2'\n",
      "b'Average temperature since start: 22.265234375000002'\n",
      "b'Average CO2 concentration by batch: 582.3333333333334'\n",
      "b'Average humidity ratio by batch: 27.208999999999996'\n",
      "b'Average temperature by batch: 22.126666666666658'\n",
      "b'Average CO2 concentration since start: 603.2432432432432'\n",
      "b'Average humidity ratio since start: 27.310540540540536'\n",
      "b'number of sample couples difference != 1 min: 1'\n",
      "b'Average temperature since start: 22.24650900900901'\n",
      "b'Average luminosity by batch: 0.0'\n",
      "b'Average CO2 concentration by batch: 579.3'\n",
      "b'Average humidity ratio by batch: 27.189999999999998'\n",
      "b'Average temperature by batch: 22.125'\n",
      "b'Average CO2 concentration since start: 600.3928571428571'\n",
      "b'Average humidity ratio since start: 27.29619047619047'\n",
      "b'Average temperature since start: 22.232043650793653'\n",
      "b'number of sample couples difference != 1 min: 2'\n",
      "b'Average CO2 concentration by batch: 569.2666666666667'\n",
      "b'Average temperature by batch: 22.1'\n",
      "b'Average humidity ratio by batch: 27.2'\n",
      "b'Average CO2 concentration since start: 597.081560283688'\n",
      "b'Average humidity ratio since start: 27.285957446808506'\n",
      "b'Average temperature since start: 22.21799645390071'\n",
      "b'number of sample couples difference != 1 min: 1'\n",
      "b'Average CO2 concentration by batch: 564.2666666666667'\n",
      "b'Average temperature by batch: 22.07333333333334'\n",
      "b'Average humidity ratio by batch: 27.143333333333338'\n",
      "b'Average CO2 concentration since start: 593.926282051282'\n",
      "b'number of sample couples difference != 1 min: 2'\n",
      "b'Average humidity ratio since start: 27.27224358974359'\n",
      "b'Average temperature since start: 22.204086538461542'\n",
      "b'Average luminosity by batch: 0.0'\n",
      "b'Average CO2 concentration by batch: 561.2'\n",
      "b'Average humidity ratio by batch: 27.109999999999996'\n",
      "b'Average temperature by batch: 22.009999999999998'\n",
      "b'Average CO2 concentration since start: 591.0555555555555'\n",
      "b'Average humidity ratio since start: 27.25801169590643'\n",
      "b'Average temperature since start: 22.187061403508775'\n",
      "b'number of sample couples difference != 1 min: 3'\n",
      "b'Average CO2 concentration by batch: 555.6666666666666'\n",
      "b'Average temperature by batch: 21.928194444444454'\n",
      "b'Average humidity ratio by batch: 27.099999999999998'\n",
      "b'Average CO2 concentration since start: 587.6851851851851'\n",
      "b'Average humidity ratio since start: 27.24296296296296'\n",
      "b'Average temperature since start: 22.16240740740741'\n",
      "b'number of sample couples difference != 1 min: 1'\n",
      "b'Average CO2 concentration by batch: 549.2'\n",
      "b'Average humidity ratio by batch: 27.1'\n",
      "b'Average temperature by batch: 21.89'\n",
      "b'Average CO2 concentration since start: 584.8553921568628'\n",
      "b'Average humidity ratio since start: 27.23245098039215'\n",
      "b'Average temperature since start: 22.142377450980394'\n",
      "b'number of sample couples difference != 1 min: 0'\n",
      "b'Average luminosity by batch: 0.0'\n",
      "b'Average CO2 concentration by batch: 545.2380952380953'\n",
      "b'Average temperature by batch: 21.8352380952381'\n",
      "b'Average humidity ratio by batch: 27.099999999999998'\n",
      "b'Average CO2 concentration since start: 581.1577777777777'\n",
      "b'Average humidity ratio since start: 27.220088888888885'\n",
      "b'Average temperature since start: 22.113711111111115'\n",
      "b'number of sample couples difference != 1 min: 2'\n",
      "b'Average CO2 concentration by batch: 538.2333333333333'\n",
      "b'Average humidity ratio by batch: 27.1'\n",
      "b'Average temperature by batch: 21.79'\n",
      "b'Average CO2 concentration since start: 578.4749999999999'\n",
      "b'Average humidity ratio since start: 27.212583333333328'\n",
      "b'number of sample couples difference != 1 min: 1'\n",
      "b'Average temperature since start: 22.093479166666672'\n",
      "b'Average CO2 concentration by batch: 531.5'\n",
      "b'Average temperature by batch: 21.748'\n",
      "b'Average humidity ratio by batch: 27.080000000000002'\n",
      "b'Average CO2 concentration since start: 575.7117647058823'\n",
      "b'Average humidity ratio since start: 27.204784313725487'\n",
      "b'number of sample couples difference != 1 min: 2'\n",
      "b'Average temperature since start: 22.0731568627451'\n",
      "b'Average luminosity by batch: 0.0'\n",
      "b'Average CO2 concentration by batch: 529.3666666666666'\n",
      "b'Average humidity ratio by batch: 27.0'\n",
      "b'Average temperature by batch: 21.733'\n",
      "b'Average CO2 concentration since start: 573.137037037037'\n",
      "b'Average humidity ratio since start: 27.193407407407403'\n",
      "b'Average temperature since start: 22.05425925925926'\n",
      "b'number of sample couples difference != 1 min: 3'\n",
      "b'Average CO2 concentration by batch: 529.3888888888888'\n",
      "b'Average temperature by batch: 21.7'\n",
      "b'Average humidity ratio by batch: 26.926666666666666'\n",
      "b'Average CO2 concentration since start: 570.4027777777777'\n",
      "b'Average humidity ratio since start: 27.176736111111108'\n",
      "b'number of sample couples difference != 1 min: 2'\n",
      "b'Average temperature since start: 22.032118055555557'\n",
      "b'Average CO2 concentration by batch: 524.6666666666666'\n",
      "b'Average humidity ratio by batch: 26.856666666666666'\n",
      "b'Average temperature by batch: 21.7'\n",
      "b'Average CO2 concentration since start: 567.7124183006536'\n",
      "b'Average temperature since start: 22.012581699346406'\n",
      "b'number of sample couples difference != 1 min: 3'\n",
      "b'Average humidity ratio since start: 27.15790849673202'\n",
      "b'Average luminosity by batch: 0.0'\n",
      "b'Average CO2 concentration by batch: 522.0'\n",
      "b'Average temperature by batch: 21.7'\n",
      "b'Average humidity ratio by batch: 26.785499999999995'\n",
      "b'Average CO2 concentration since start: 565.5763239875389'\n",
      "b'Average humidity ratio since start: 27.14050623052959'\n",
      "b'Average temperature since start: 21.99797507788162'\n",
      "b'number of sample couples difference != 1 min: 1'\n",
      "b'Average CO2 concentration by batch: 518.1666666666666'\n",
      "b'Average humidity ratio by batch: 26.698333333333334'\n",
      "b'Average temperature by batch: 21.666666666666668'\n",
      "b'Average CO2 concentration since start: 563.0589970501475'\n",
      "b'Average humidity ratio since start: 27.117028023598813'\n",
      "b'Average temperature since start: 21.98038348082596'\n",
      "b'number of sample couples difference != 1 min: 1'\n",
      "b'Average CO2 concentration by batch: 515.0'\n",
      "b'Average humidity ratio by batch: 26.589999999999996'\n",
      "b'Average temperature by batch: 21.609999999999996'\n",
      "b'Average CO2 concentration since start: 561.0225988700564'\n",
      "b'number of sample couples difference != 1 min: 1'\n",
      "b'Average humidity ratio since start: 27.094696327683607'\n",
      "b'Average temperature since start: 21.964689265536723'\n",
      "b'Average luminosity by batch: 0.0'\n",
      "b'Average CO2 concentration by batch: 512.5'\n",
      "b'Average temperature by batch: 21.608333333333334'\n",
      "b'Average humidity ratio by batch: 26.499166666666667'\n",
      "b'Average CO2 concentration since start: 558.6747311827957'\n",
      "b'number of sample couples difference != 1 min: 2'\n",
      "b'Average humidity ratio since start: 27.06588037634408'\n",
      "b'Average temperature since start: 21.94744623655914'\n",
      "b'Average CO2 concentration by batch: 508.2'\n",
      "b'Average humidity ratio by batch: 26.428500000000003'\n",
      "b'Average temperature by batch: 21.6'\n",
      "b'Average CO2 concentration since start: 556.7183462532299'\n"
     ]
    },
    {
     "name": "stdout",
     "output_type": "stream",
     "text": [
      "b'number of sample couples difference != 1 min: 2'\n",
      "b'Average humidity ratio since start: 27.041175710594306'\n",
      "b'Average temperature since start: 21.93397932816538'\n",
      "b'Average CO2 concentration by batch: 502.4'\n",
      "b'Average temperature by batch: 21.595000000000006'\n",
      "b'Average humidity ratio by batch: 26.355'\n",
      "b'Average CO2 concentration since start: 554.6915422885571'\n",
      "b'number of sample couples difference != 1 min: 3'\n",
      "b'Average humidity ratio since start: 27.015572139303476'\n",
      "b'Average temperature since start: 21.921330845771145'\n",
      "b'Average luminosity by batch: 0.0'\n",
      "b'Average CO2 concentration by batch: 502.5833333333333'\n",
      "b'Average temperature by batch: 21.54444444444445'\n",
      "b'Average humidity ratio by batch: 26.23'\n",
      "b'Average CO2 concentration since start: 552.4583333333333'\n",
      "b'Average humidity ratio since start: 26.981904761904755'\n",
      "b'Average temperature since start: 21.905178571428575'\n",
      "b'number of sample couples difference != 1 min: 1'\n",
      "b'Average CO2 concentration by batch: 500.875'\n",
      "b'Average humidity ratio by batch: 26.15'\n",
      "b'Average temperature by batch: 21.5'\n",
      "b'Average CO2 concentration since start: 551.0254629629629'\n",
      "b'Average humidity ratio since start: 26.95879629629629'\n",
      "b'Average temperature since start: 21.893923611111113'\n",
      "b'number of sample couples difference != 1 min: 1'\n",
      "b'Average humidity ratio by batch: 26.075000000000003'\n",
      "b'Average CO2 concentration by batch: 500.375'\n",
      "b'Average temperature by batch: 21.5'\n",
      "b'Average CO2 concentration since start: 548.9994444444444'\n",
      "b'Average humidity ratio since start: 26.92344444444444'\n",
      "b'Average temperature since start: 21.87816666666667'\n",
      "b'number of sample couples difference != 1 min: 2'\n",
      "b'Average luminosity by batch: 0.0'\n",
      "b'Average CO2 concentration by batch: 498.33333333333337'\n",
      "b'Average humidity ratio by batch: 26.0'\n",
      "b'Average temperature by batch: 21.5'\n",
      "b'Average CO2 concentration since start: 547.3650537634409'\n",
      "b'number of sample couples difference != 1 min: 2'\n",
      "b'Average humidity ratio since start: 26.89365591397849'\n",
      "b'Average temperature since start: 21.865967741935485'\n",
      "b'Average humidity ratio by batch: 25.96333333333334'\n",
      "b'Average CO2 concentration by batch: 492.83333333333337'\n",
      "b'Average temperature by batch: 21.5'\n",
      "b'Average CO2 concentration since start: 545.6609375'\n",
      "b'Average humidity ratio since start: 26.864583333333325'\n",
      "b'number of sample couples difference != 1 min: 1'\n",
      "b'Average temperature since start: 21.85453125'\n",
      "b'Average CO2 concentration by batch: 493.04166666666674'\n",
      "b'Average humidity ratio by batch: 25.8775'\n",
      "b'Average temperature by batch: 21.5'\n",
      "b'Average CO2 concentration since start: 544.3775406504066'\n",
      "b'number of sample couples difference != 1 min: 0'\n",
      "b'Average humidity ratio since start: 26.840508130081293'\n",
      "b'Average temperature since start: 21.845884146341465'\n",
      "b'Average luminosity by batch: 0.0'\n",
      "b'Average CO2 concentration by batch: 491.9833333333334'\n",
      "b'Average temperature by batch: 21.4945'\n",
      "b'Average humidity ratio by batch: 25.875'\n",
      "b'Average CO2 concentration since start: 542.8274161735701'\n",
      "b'Average humidity ratio since start: 26.811942800788948'\n",
      "b'number of sample couples difference != 1 min: 1'\n",
      "b'Average temperature since start: 21.835488165680474'\n",
      "b'Average humidity ratio by batch: 25.78333333333333'\n",
      "b'Average CO2 concentration by batch: 490.1666666666667'\n",
      "b'Average temperature by batch: 21.481666666666666'\n",
      "b'Average CO2 concentration since start: 541.0219047619048'\n",
      "b'Average humidity ratio since start: 26.776676190476184'\n",
      "b'number of sample couples difference != 1 min: 2'\n",
      "b'Average temperature since start: 21.823357142857144'\n",
      "b'Average CO2 concentration by batch: 487.6333333333332'\n",
      "b'Average humidity ratio by batch: 25.744999999999997'\n",
      "b'Average temperature by batch: 21.445'\n",
      "b'Average CO2 concentration since start: 539.538888888889'\n",
      "b'Average humidity ratio since start: 26.748018518518514'\n",
      "b'number of sample couples difference != 1 min: 3'\n",
      "b'Average temperature since start: 21.81284722222222'\n",
      "b'Average luminosity by batch: 0.0'\n",
      "b'Average humidity ratio by batch: 25.7375'\n",
      "b'Average CO2 concentration by batch: 489.375'\n",
      "b'Average temperature by batch: 21.435833333333335'\n",
      "b'Average CO2 concentration since start: 537.9206989247313'\n",
      "b'Average temperature since start: 21.800685483870968'\n",
      "b'Average humidity ratio since start: 26.715421146953403'\n",
      "b'number of sample couples difference != 1 min: 2'\n",
      "b'Average CO2 concentration by batch: 486.7333333333334'\n",
      "b'Average humidity ratio by batch: 25.724'\n",
      "b'Average temperature by batch: 21.41933333333334'\n",
      "b'Average CO2 concentration since start: 536.5807155322863'\n",
      "b'Average humidity ratio since start: 26.68946771378708'\n",
      "b'Average temperature since start: 21.790702443280974'\n",
      "b'number of sample couples difference != 1 min: 3'\n",
      "b'Average CO2 concentration by batch: 488.6333333333334'\n",
      "b'Average humidity ratio by batch: 25.7'\n",
      "b'Average temperature by batch: 21.39'\n",
      "b'Average CO2 concentration since start: 535.357568027211'\n",
      "b'Average humidity ratio since start: 26.664226190476185'\n",
      "b'number of sample couples difference != 1 min: 1'\n",
      "b'Average temperature since start: 21.780480442176867'\n",
      "b'Average luminosity by batch: 0.0'\n",
      "b'Average CO2 concentration by batch: 483.7'\n",
      "b'Average temperature by batch: 21.39'\n",
      "b'Average humidity ratio by batch: 25.7'\n",
      "b'Average CO2 concentration since start: 534.0725538971809'\n",
      "b'Average humidity ratio since start: 26.640240464344938'\n",
      "b'Average temperature since start: 21.77076699834162'\n",
      "b'number of sample couples difference != 1 min: 1'\n",
      "b'Average CO2 concentration by batch: 480.0333333333334'\n",
      "b'Average humidity ratio by batch: 25.7'\n",
      "b'Average temperature by batch: 21.39'\n",
      "b'Average CO2 concentration since start: 532.7609223300972'\n",
      "b'Average temperature since start: 21.761525080906143'\n",
      "b'Average humidity ratio since start: 26.61741909385113'\n",
      "b'number of sample couples difference != 1 min: 2'\n",
      "b'Average CO2 concentration by batch: 482.375'\n",
      "b'Average temperature by batch: 21.39'\n",
      "b'Average humidity ratio by batch: 25.7'\n",
      "b'Average CO2 concentration since start: 531.8011904761906'\n",
      "b'Average humidity ratio since start: 26.599944444444443'\n",
      "b'Average temperature since start: 21.75444841269841'\n",
      "b'number of sample couples difference != 1 min: 1'\n"
     ]
    },
    {
     "ename": "KeyboardInterrupt",
     "evalue": "",
     "output_type": "error",
     "traceback": [
      "\u001b[0;31m---------------------------------------------------------------------------\u001b[0m",
      "\u001b[0;31mKeyboardInterrupt\u001b[0m                         Traceback (most recent call last)",
      "\u001b[0;32m<ipython-input-15-13c8293a59b3>\u001b[0m in \u001b[0;36m<module>\u001b[0;34m\u001b[0m\n\u001b[1;32m      5\u001b[0m \u001b[0mconsumer\u001b[0m\u001b[0;34m.\u001b[0m\u001b[0msubscribe\u001b[0m\u001b[0;34m(\u001b[0m\u001b[0;34m[\u001b[0m\u001b[0mkafkaConsumerTopic\u001b[0m\u001b[0;34m]\u001b[0m\u001b[0;34m)\u001b[0m\u001b[0;34m\u001b[0m\u001b[0;34m\u001b[0m\u001b[0m\n\u001b[1;32m      6\u001b[0m \u001b[0;34m\u001b[0m\u001b[0m\n\u001b[0;32m----> 7\u001b[0;31m \u001b[0;32mfor\u001b[0m \u001b[0mmessage\u001b[0m \u001b[0;32min\u001b[0m \u001b[0mconsumer\u001b[0m\u001b[0;34m:\u001b[0m\u001b[0;34m\u001b[0m\u001b[0;34m\u001b[0m\u001b[0m\n\u001b[0m\u001b[1;32m      8\u001b[0m     \u001b[0mprint\u001b[0m \u001b[0;34m(\u001b[0m\u001b[0mmessage\u001b[0m\u001b[0;34m.\u001b[0m\u001b[0mvalue\u001b[0m\u001b[0;34m)\u001b[0m\u001b[0;34m\u001b[0m\u001b[0;34m\u001b[0m\u001b[0m\n\u001b[1;32m      9\u001b[0m \u001b[0;34m\u001b[0m\u001b[0m\n",
      "\u001b[0;32m~/anaconda3/envs/pyspark/lib/python3.7/site-packages/kafka/consumer/group.py\u001b[0m in \u001b[0;36m__next__\u001b[0;34m(self)\u001b[0m\n\u001b[1;32m   1118\u001b[0m         \u001b[0mself\u001b[0m\u001b[0;34m.\u001b[0m\u001b[0m_set_consumer_timeout\u001b[0m\u001b[0;34m(\u001b[0m\u001b[0;34m)\u001b[0m\u001b[0;34m\u001b[0m\u001b[0;34m\u001b[0m\u001b[0m\n\u001b[1;32m   1119\u001b[0m         \u001b[0;32mtry\u001b[0m\u001b[0;34m:\u001b[0m\u001b[0;34m\u001b[0m\u001b[0;34m\u001b[0m\u001b[0m\n\u001b[0;32m-> 1120\u001b[0;31m             \u001b[0;32mreturn\u001b[0m \u001b[0mnext\u001b[0m\u001b[0;34m(\u001b[0m\u001b[0mself\u001b[0m\u001b[0;34m.\u001b[0m\u001b[0m_iterator\u001b[0m\u001b[0;34m)\u001b[0m\u001b[0;34m\u001b[0m\u001b[0;34m\u001b[0m\u001b[0m\n\u001b[0m\u001b[1;32m   1121\u001b[0m         \u001b[0;32mexcept\u001b[0m \u001b[0mStopIteration\u001b[0m\u001b[0;34m:\u001b[0m\u001b[0;34m\u001b[0m\u001b[0;34m\u001b[0m\u001b[0m\n\u001b[1;32m   1122\u001b[0m             \u001b[0mself\u001b[0m\u001b[0;34m.\u001b[0m\u001b[0m_iterator\u001b[0m \u001b[0;34m=\u001b[0m \u001b[0;32mNone\u001b[0m\u001b[0;34m\u001b[0m\u001b[0;34m\u001b[0m\u001b[0m\n",
      "\u001b[0;32m~/anaconda3/envs/pyspark/lib/python3.7/site-packages/kafka/consumer/group.py\u001b[0m in \u001b[0;36m_message_generator\u001b[0;34m(self)\u001b[0m\n\u001b[1;32m   1073\u001b[0m             \u001b[0;32mif\u001b[0m \u001b[0;32mnot\u001b[0m \u001b[0mself\u001b[0m\u001b[0;34m.\u001b[0m\u001b[0m_fetcher\u001b[0m\u001b[0;34m.\u001b[0m\u001b[0min_flight_fetches\u001b[0m\u001b[0;34m(\u001b[0m\u001b[0;34m)\u001b[0m\u001b[0;34m:\u001b[0m\u001b[0;34m\u001b[0m\u001b[0;34m\u001b[0m\u001b[0m\n\u001b[1;32m   1074\u001b[0m                 \u001b[0mpoll_ms\u001b[0m \u001b[0;34m=\u001b[0m \u001b[0mmin\u001b[0m\u001b[0;34m(\u001b[0m\u001b[0mpoll_ms\u001b[0m\u001b[0;34m,\u001b[0m \u001b[0mself\u001b[0m\u001b[0;34m.\u001b[0m\u001b[0mconfig\u001b[0m\u001b[0;34m[\u001b[0m\u001b[0;34m'reconnect_backoff_ms'\u001b[0m\u001b[0;34m]\u001b[0m\u001b[0;34m)\u001b[0m\u001b[0;34m\u001b[0m\u001b[0;34m\u001b[0m\u001b[0m\n\u001b[0;32m-> 1075\u001b[0;31m             \u001b[0mself\u001b[0m\u001b[0;34m.\u001b[0m\u001b[0m_client\u001b[0m\u001b[0;34m.\u001b[0m\u001b[0mpoll\u001b[0m\u001b[0;34m(\u001b[0m\u001b[0mtimeout_ms\u001b[0m\u001b[0;34m=\u001b[0m\u001b[0mpoll_ms\u001b[0m\u001b[0;34m)\u001b[0m\u001b[0;34m\u001b[0m\u001b[0;34m\u001b[0m\u001b[0m\n\u001b[0m\u001b[1;32m   1076\u001b[0m \u001b[0;34m\u001b[0m\u001b[0m\n\u001b[1;32m   1077\u001b[0m             \u001b[0;31m# after the long poll, we should check whether the group needs to rebalance\u001b[0m\u001b[0;34m\u001b[0m\u001b[0;34m\u001b[0m\u001b[0;34m\u001b[0m\u001b[0m\n",
      "\u001b[0;32m~/anaconda3/envs/pyspark/lib/python3.7/site-packages/kafka/client_async.py\u001b[0m in \u001b[0;36mpoll\u001b[0;34m(self, timeout_ms, future)\u001b[0m\n\u001b[1;32m    591\u001b[0m                     \u001b[0mtimeout\u001b[0m \u001b[0;34m=\u001b[0m \u001b[0mmax\u001b[0m\u001b[0;34m(\u001b[0m\u001b[0;36m0\u001b[0m\u001b[0;34m,\u001b[0m \u001b[0mtimeout\u001b[0m \u001b[0;34m/\u001b[0m \u001b[0;36m1000\u001b[0m\u001b[0;34m)\u001b[0m  \u001b[0;31m# avoid negative timeouts\u001b[0m\u001b[0;34m\u001b[0m\u001b[0;34m\u001b[0m\u001b[0m\n\u001b[1;32m    592\u001b[0m \u001b[0;34m\u001b[0m\u001b[0m\n\u001b[0;32m--> 593\u001b[0;31m                 \u001b[0mself\u001b[0m\u001b[0;34m.\u001b[0m\u001b[0m_poll\u001b[0m\u001b[0;34m(\u001b[0m\u001b[0mtimeout\u001b[0m\u001b[0;34m)\u001b[0m\u001b[0;34m\u001b[0m\u001b[0;34m\u001b[0m\u001b[0m\n\u001b[0m\u001b[1;32m    594\u001b[0m \u001b[0;34m\u001b[0m\u001b[0m\n\u001b[1;32m    595\u001b[0m                 \u001b[0mresponses\u001b[0m\u001b[0;34m.\u001b[0m\u001b[0mextend\u001b[0m\u001b[0;34m(\u001b[0m\u001b[0mself\u001b[0m\u001b[0;34m.\u001b[0m\u001b[0m_fire_pending_completed_requests\u001b[0m\u001b[0;34m(\u001b[0m\u001b[0;34m)\u001b[0m\u001b[0;34m)\u001b[0m\u001b[0;34m\u001b[0m\u001b[0;34m\u001b[0m\u001b[0m\n",
      "\u001b[0;32m~/anaconda3/envs/pyspark/lib/python3.7/site-packages/kafka/client_async.py\u001b[0m in \u001b[0;36m_poll\u001b[0;34m(self, timeout)\u001b[0m\n\u001b[1;32m    612\u001b[0m \u001b[0;34m\u001b[0m\u001b[0m\n\u001b[1;32m    613\u001b[0m         \u001b[0mstart_select\u001b[0m \u001b[0;34m=\u001b[0m \u001b[0mtime\u001b[0m\u001b[0;34m.\u001b[0m\u001b[0mtime\u001b[0m\u001b[0;34m(\u001b[0m\u001b[0;34m)\u001b[0m\u001b[0;34m\u001b[0m\u001b[0;34m\u001b[0m\u001b[0m\n\u001b[0;32m--> 614\u001b[0;31m         \u001b[0mready\u001b[0m \u001b[0;34m=\u001b[0m \u001b[0mself\u001b[0m\u001b[0;34m.\u001b[0m\u001b[0m_selector\u001b[0m\u001b[0;34m.\u001b[0m\u001b[0mselect\u001b[0m\u001b[0;34m(\u001b[0m\u001b[0mtimeout\u001b[0m\u001b[0;34m)\u001b[0m\u001b[0;34m\u001b[0m\u001b[0;34m\u001b[0m\u001b[0m\n\u001b[0m\u001b[1;32m    615\u001b[0m         \u001b[0mend_select\u001b[0m \u001b[0;34m=\u001b[0m \u001b[0mtime\u001b[0m\u001b[0;34m.\u001b[0m\u001b[0mtime\u001b[0m\u001b[0;34m(\u001b[0m\u001b[0;34m)\u001b[0m\u001b[0;34m\u001b[0m\u001b[0;34m\u001b[0m\u001b[0m\n\u001b[1;32m    616\u001b[0m         \u001b[0;32mif\u001b[0m \u001b[0mself\u001b[0m\u001b[0;34m.\u001b[0m\u001b[0m_sensors\u001b[0m\u001b[0;34m:\u001b[0m\u001b[0;34m\u001b[0m\u001b[0;34m\u001b[0m\u001b[0m\n",
      "\u001b[0;32m~/anaconda3/envs/pyspark/lib/python3.7/selectors.py\u001b[0m in \u001b[0;36mselect\u001b[0;34m(self, timeout)\u001b[0m\n\u001b[1;32m    466\u001b[0m             \u001b[0mready\u001b[0m \u001b[0;34m=\u001b[0m \u001b[0;34m[\u001b[0m\u001b[0;34m]\u001b[0m\u001b[0;34m\u001b[0m\u001b[0;34m\u001b[0m\u001b[0m\n\u001b[1;32m    467\u001b[0m             \u001b[0;32mtry\u001b[0m\u001b[0;34m:\u001b[0m\u001b[0;34m\u001b[0m\u001b[0;34m\u001b[0m\u001b[0m\n\u001b[0;32m--> 468\u001b[0;31m                 \u001b[0mfd_event_list\u001b[0m \u001b[0;34m=\u001b[0m \u001b[0mself\u001b[0m\u001b[0;34m.\u001b[0m\u001b[0m_selector\u001b[0m\u001b[0;34m.\u001b[0m\u001b[0mpoll\u001b[0m\u001b[0;34m(\u001b[0m\u001b[0mtimeout\u001b[0m\u001b[0;34m,\u001b[0m \u001b[0mmax_ev\u001b[0m\u001b[0;34m)\u001b[0m\u001b[0;34m\u001b[0m\u001b[0;34m\u001b[0m\u001b[0m\n\u001b[0m\u001b[1;32m    469\u001b[0m             \u001b[0;32mexcept\u001b[0m \u001b[0mInterruptedError\u001b[0m\u001b[0;34m:\u001b[0m\u001b[0;34m\u001b[0m\u001b[0;34m\u001b[0m\u001b[0m\n\u001b[1;32m    470\u001b[0m                 \u001b[0;32mreturn\u001b[0m \u001b[0mready\u001b[0m\u001b[0;34m\u001b[0m\u001b[0;34m\u001b[0m\u001b[0m\n",
      "\u001b[0;31mKeyboardInterrupt\u001b[0m: "
     ]
    }
   ],
   "source": [
    "print(\"Initialization...\")\n",
    "\n",
    "consumer = kafka.KafkaConsumer(bootstrap_servers=kafkaBrokerIPPort,\n",
    "                         auto_offset_reset='earliest')\n",
    "consumer.subscribe([kafkaConsumerTopic])\n",
    "\n",
    "for message in consumer:\n",
    "    print (message.value)\n",
    "\n",
    "print(\"End\")"
   ]
  },
  {
   "cell_type": "code",
   "execution_count": 16,
   "metadata": {},
   "outputs": [],
   "source": [
    "ssc.stop(False)"
   ]
  }
 ],
 "metadata": {
  "kernelspec": {
   "display_name": "Python 3",
   "language": "python",
   "name": "python3"
  },
  "language_info": {
   "codemirror_mode": {
    "name": "ipython",
    "version": 3
   },
   "file_extension": ".py",
   "mimetype": "text/x-python",
   "name": "python",
   "nbconvert_exporter": "python",
   "pygments_lexer": "ipython3",
   "version": "3.7.1"
  }
 },
 "nbformat": 4,
 "nbformat_minor": 2
}
